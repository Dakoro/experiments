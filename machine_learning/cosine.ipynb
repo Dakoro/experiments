{
 "cells": [
  {
   "cell_type": "code",
   "execution_count": 12,
   "metadata": {},
   "outputs": [],
   "source": [
    "import math\n",
    "import scipy\n",
    "import simsimd\n",
    "import numpy as np"
   ]
  },
  {
   "cell_type": "code",
   "execution_count": 13,
   "metadata": {},
   "outputs": [],
   "source": [
    "def cosine_similarity(a: list[float], b: list[float]) -> float:\n",
    "    dot_product = sum(ai * bi for ai, bi in zip(a, b))\n",
    "    norm_a = sum(ai * ai for ai in a) ** 0.5\n",
    "    norm_b = sum(bi * bi for bi in b) ** 0.5\n",
    "    if norm_a == 0 or norm_b == 0: \n",
    "        return 1\n",
    "    if dot_product == 0: \n",
    "        return 0\n",
    "    return dot_product / (norm_a * norm_b)\n",
    "\n",
    "def cosine_similarity_v2(a: np.ndarray, b: np.ndarray) -> float:    \n",
    "    a, b = np.asarray(a), np.asarray(b)\n",
    "    dot_product = np.dot(a, b)\n",
    "    norm_a, norm_b = np.linalg.norm(a), np.linalg.norm(b)\n",
    "    if norm_a == 0 or norm_b == 0: return 1\n",
    "    if dot_product == 0: return 0\n",
    "    return dot_product / (norm_a * norm_b)"
   ]
  },
  {
   "cell_type": "code",
   "execution_count": 14,
   "metadata": {},
   "outputs": [],
   "source": [
    "np.random.seed(0)\n",
    "a_list = np.random.rand(1536).astype(np.float32)\n",
    "b_list = np.random.rand(1536).astype(np.float32)"
   ]
  },
  {
   "cell_type": "code",
   "execution_count": 15,
   "metadata": {},
   "outputs": [
    {
     "name": "stdout",
     "output_type": "stream",
     "text": [
      "805 μs ± 2.73 μs per loop (mean ± std. dev. of 7 runs, 1,000 loops each)\n"
     ]
    }
   ],
   "source": [
    "%timeit cosine_similarity(a_list, b_list)"
   ]
  },
  {
   "cell_type": "code",
   "execution_count": 16,
   "metadata": {},
   "outputs": [
    {
     "name": "stdout",
     "output_type": "stream",
     "text": [
      "6.44 μs ± 26.8 ns per loop (mean ± std. dev. of 7 runs, 100,000 loops each)\n"
     ]
    }
   ],
   "source": [
    "%timeit cosine_similarity_v2(a_list, b_list)"
   ]
  },
  {
   "cell_type": "code",
   "execution_count": 17,
   "metadata": {},
   "outputs": [
    {
     "name": "stdout",
     "output_type": "stream",
     "text": [
      "685 ns ± 3.21 ns per loop (mean ± std. dev. of 7 runs, 1,000,000 loops each)\n"
     ]
    }
   ],
   "source": [
    "%timeit simsimd.cosine(a_list, b_list)"
   ]
  }
 ],
 "metadata": {
  "kernelspec": {
   "display_name": "experiment",
   "language": "python",
   "name": "python3"
  },
  "language_info": {
   "codemirror_mode": {
    "name": "ipython",
    "version": 3
   },
   "file_extension": ".py",
   "mimetype": "text/x-python",
   "name": "python",
   "nbconvert_exporter": "python",
   "pygments_lexer": "ipython3",
   "version": "3.10.12"
  }
 },
 "nbformat": 4,
 "nbformat_minor": 2
}
